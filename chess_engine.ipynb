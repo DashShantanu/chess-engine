{
  "nbformat": 4,
  "nbformat_minor": 0,
  "metadata": {
    "colab": {
      "provenance": [],
      "authorship_tag": "ABX9TyN4a/sNDCd0gVpPNyIxdSaR",
      "include_colab_link": true
    },
    "kernelspec": {
      "name": "python3",
      "display_name": "Python 3"
    },
    "language_info": {
      "name": "python"
    }
  },
  "cells": [
    {
      "cell_type": "markdown",
      "metadata": {
        "id": "view-in-github",
        "colab_type": "text"
      },
      "source": [
        "<a href=\"https://colab.research.google.com/github/DashShantanu/chess-engine/blob/main/chess_engine.ipynb\" target=\"_parent\"><img src=\"https://colab.research.google.com/assets/colab-badge.svg\" alt=\"Open In Colab\"/></a>"
      ]
    },
    {
      "cell_type": "code",
      "execution_count": null,
      "metadata": {
        "colab": {
          "base_uri": "https://localhost:8080/"
        },
        "id": "mY2EK4F65DZ0",
        "outputId": "96bf44d0-35bb-438b-f263-6acafa8b8165"
      },
      "outputs": [
        {
          "output_type": "stream",
          "name": "stdout",
          "text": [
            "mkdir: cannot create directory ‘/root/.kaggle’: File exists\n",
            "Downloading chess-games.zip to /content\n",
            "100% 1.45G/1.45G [00:15<00:00, 112MB/s] \n",
            "100% 1.45G/1.45G [00:15<00:00, 98.8MB/s]\n"
          ]
        }
      ],
      "source": [
        "! pip install kaggle -q\n",
        "! mkdir ~/.kaggle\n",
        "! cp kaggle.json ~/.kaggle/\n",
        "! chmod 600 /root/.kaggle/kaggle.json\n",
        "! kaggle datasets download -d arevel/chess-games\n",
        "! unzip -qq /content/chess-games.zip\n",
        "\n",
        "# dataset url\n",
        "# https://www.kaggle.com/datasets/arevel/chess-games\n",
        "\n",
        "# !nvcc --version\n",
        "# !pip3 install torch torchvision torchaudio --index-url https://download.pytorch.org/whl/cu118\n",
        "# !pip3 install torchvision"
      ]
    },
    {
      "cell_type": "code",
      "source": [
        "! pip install chess -q\n",
        "import chess"
      ],
      "metadata": {
        "colab": {
          "base_uri": "https://localhost:8080/"
        },
        "id": "O0i4UWTJ5UK3",
        "outputId": "5c6993d3-716e-4ed0-e5cc-7be84309fc14"
      },
      "execution_count": null,
      "outputs": [
        {
          "output_type": "stream",
          "name": "stdout",
          "text": [
            "\u001b[?25l     \u001b[90m━━━━━━━━━━━━━━━━━━━━━━━━━━━━━━━━━━━━━━━━\u001b[0m \u001b[32m0.0/154.4 kB\u001b[0m \u001b[31m?\u001b[0m eta \u001b[36m-:--:--\u001b[0m\r\u001b[2K     \u001b[91m━━━━━━━\u001b[0m\u001b[91m╸\u001b[0m\u001b[90m━━━━━━━━━━━━━━━━━━━━━━━━━━━━━━━━\u001b[0m \u001b[32m30.7/154.4 kB\u001b[0m \u001b[31m1.1 MB/s\u001b[0m eta \u001b[36m0:00:01\u001b[0m\r\u001b[2K     \u001b[90m━━━━━━━━━━━━━━━━━━━━━━━━━━━━━━━━━━━━━━━━\u001b[0m \u001b[32m154.4/154.4 kB\u001b[0m \u001b[31m2.2 MB/s\u001b[0m eta \u001b[36m0:00:00\u001b[0m\n",
            "\u001b[?25h"
          ]
        }
      ]
    },
    {
      "cell_type": "code",
      "source": [
        "# Column indexes mapping from letter to num and vice-versa\n",
        "letter_to_num = { 'a': 0, 'b': 1, 'c': 2, 'd': 3, 'e': 4, 'f': 5, 'g': 6, 'h': 7 }\n",
        "num_to_letter = { 0: 'a', 1: 'b', 2: 'c', 3: 'd', 4: 'e', 5: 'f', 6: 'g', 7: 'h' }"
      ],
      "metadata": {
        "id": "-9lK3WQS5Vyu"
      },
      "execution_count": null,
      "outputs": []
    },
    {
      "cell_type": "code",
      "source": [
        "import numpy as np\n",
        "import pandas as pd\n",
        "import re\n",
        "\n",
        "# Chess-board to matrix representation\n",
        "def board_to_rep(board):\n",
        "  pieces = ['p', 'r', 'n', 'b', 'q', 'k']\n",
        "  layers = []\n",
        "\n",
        "  for piece in pieces:\n",
        "    layers.append(create_rep_layer(board, piece))\n",
        "\n",
        "  # combining into a single 3-D tensor\n",
        "  board_rep = np.stack(layers)\n",
        "\n",
        "  return board_rep"
      ],
      "metadata": {
        "id": "-cpx8sKH5aiN"
      },
      "execution_count": null,
      "outputs": []
    },
    {
      "cell_type": "code",
      "source": [
        "# Create a layer of the matrix representation, white value is positive, black is negative\n",
        "def create_rep_layer(board, type):\n",
        "    # convert board object to string\n",
        "    s = str(board)\n",
        "\n",
        "    # remove all characters except for the type we are looking for\n",
        "    s = re.sub(f'[^{type}{type.upper()} \\n]', '.', s)\n",
        "    # replace all occurences of the type in uppercase with 1 (white pieces)\n",
        "    s = re.sub(f'[{type.upper()}]', '1', s)\n",
        "    # replace all occurences of the type in lowercase with -1 (black pieces)\n",
        "    s = re.sub(f'{type}', '-1', s)\n",
        "    # replace all occurences of empty spaces or other characters with 0\n",
        "    s = re.sub(f'\\.', '0', s)\n",
        "\n",
        "    board_matrix = []\n",
        "    for row in s.split('\\n'):\n",
        "        # split each row into a list of characters\n",
        "        row = row.split(' ')\n",
        "        # convert each character to an integer\n",
        "        row = [int(x) for x in row]\n",
        "        # append the row to the board matrix\n",
        "        board_matrix.append(row)\n",
        "\n",
        "    return np.array(board_matrix)"
      ],
      "metadata": {
        "id": "kSrxm2Ol5dPU"
      },
      "execution_count": null,
      "outputs": []
    },
    {
      "cell_type": "code",
      "source": [
        "# chess-move to matrix representation\n",
        "def move_to_rep(move, board):\n",
        "    # make the move on the board and convert move to uci format\n",
        "    board.push_san(move).uci()\n",
        "\n",
        "    # Make a copy of the original board to preserve its state\n",
        "    board_copy = board.copy()\n",
        "    # convert board object to string\n",
        "    move = str(board_copy.pop())\n",
        "\n",
        "    from_output_layer = np.zeros((8,8))\n",
        "    from_row = 8 - int(move[1])\n",
        "    from_column = letter_to_num[move[0]]\n",
        "    from_output_layer[from_row, from_column] = 1\n",
        "\n",
        "    to_output_layer = np.zeros((8,8))\n",
        "    to_row = 8 - int(move[3])\n",
        "    to_column = letter_to_num[move[2]]\n",
        "    to_output_layer[to_row, to_column] = 1\n",
        "\n",
        "    return np.stack([from_output_layer, to_output_layer])"
      ],
      "metadata": {
        "id": "b5s7TYvn5hts"
      },
      "execution_count": null,
      "outputs": []
    },
    {
      "cell_type": "code",
      "source": [
        "# Break down game into individual moves\n",
        "def create_move_list(s):\n",
        "    # remove the move numbers and periods\n",
        "    # split the string into a list of moves\n",
        "    # The last element is excluded because it often contains empty space due to the trailing space after the last move in the original string\n",
        "    return re.sub('\\d*\\. ', '', s).split(' ')[ : -1]"
      ],
      "metadata": {
        "id": "TkYAWtCH5k1o"
      },
      "execution_count": null,
      "outputs": []
    },
    {
      "cell_type": "markdown",
      "source": [
        "Loading the Chess Dataset"
      ],
      "metadata": {
        "id": "9q0TFRVP5rgk"
      }
    },
    {
      "cell_type": "code",
      "source": [
        "chess_data_raw = pd.read_csv('/content/chess_games.csv', usecols=['AN', 'WhiteElo'])\n",
        "chess_data = chess_data_raw[chess_data_raw['WhiteElo'] > 2000]"
      ],
      "metadata": {
        "id": "vvGDZytm5pKI"
      },
      "execution_count": null,
      "outputs": []
    },
    {
      "cell_type": "code",
      "source": [
        "import gc\n",
        "# remove rejected games from memory\n",
        "del chess_data_raw\n",
        "gc.collect()"
      ],
      "metadata": {
        "colab": {
          "base_uri": "https://localhost:8080/"
        },
        "id": "YFrMzrxH5xmS",
        "outputId": "27f9c28f-cbb1-4fd0-f9a7-b61dd3b0c860"
      },
      "execution_count": null,
      "outputs": [
        {
          "output_type": "execute_result",
          "data": {
            "text/plain": [
              "0"
            ]
          },
          "metadata": {},
          "execution_count": 10
        }
      ]
    },
    {
      "cell_type": "code",
      "source": [
        "chess_data = chess_data[['AN']]\n",
        "chess_data = chess_data[~chess_data['AN'].str.contains('{')]\n",
        "chess_data = chess_data[chess_data['AN'].str.len() > 20]"
      ],
      "metadata": {
        "id": "G_sasMvd502S"
      },
      "execution_count": null,
      "outputs": []
    },
    {
      "cell_type": "code",
      "source": [
        "print(chess_data.shape[0])"
      ],
      "metadata": {
        "colab": {
          "base_uri": "https://localhost:8080/"
        },
        "id": "gQljJ1bt54FC",
        "outputId": "d888c8d9-78b4-41d9-a00c-a06d1e2656a9"
      },
      "execution_count": null,
      "outputs": [
        {
          "output_type": "stream",
          "name": "stdout",
          "text": [
            "883376\n"
          ]
        }
      ]
    },
    {
      "cell_type": "code",
      "source": [
        "from torch.utils.data import Dataset\n",
        "\n",
        "# pytorch dataset class\n",
        "class ChessDataset(Dataset):\n",
        "    def __init__(self, games):\n",
        "      super(ChessDataset, self).__init__()\n",
        "      self.games = games\n",
        "\n",
        "    def __len__(self):\n",
        "      return 40_000\n",
        "\n",
        "    def __getitem__(self, index):\n",
        "      # generate a random index from the number of games in the dataset\n",
        "      game_i = np.random.randint(self.games.shape[0])\n",
        "\n",
        "      # get the algebraic notation from the random index\n",
        "      random_game = chess_data['AN'].values[game_i]\n",
        "\n",
        "      # create a list of moves from the random game\n",
        "      moves = create_move_list(random_game)\n",
        "\n",
        "      #  randomly select a state (position) from the game by choosing a move number within the range of the number of moves in the game\n",
        "      game_state_i = np.random.randint(len(moves) - 1)\n",
        "\n",
        "      # get the move from the randomly selected position\n",
        "      # this will be the target move the model will try to predict\n",
        "      next_move = moves[game_state_i]\n",
        "\n",
        "      # keep only the moves up to the randomly selected position\n",
        "      moves = moves[ : game_state_i]\n",
        "\n",
        "      # create a new board object\n",
        "      board = chess.Board()\n",
        "      # make all the moves up to the randomly selected position\n",
        "      for move in moves:\n",
        "        board.push_san(move)\n",
        "\n",
        "      # convert the board to a matrix representation, this will be the input to the model\n",
        "      x = board_to_rep(board)\n",
        "      # convert the move to a matrix representation, this will be the target output of the model\n",
        "      y = move_to_rep(next_move, board)\n",
        "\n",
        "      # if it is an odd index move, it means black's move\n",
        "      if game_state_i % 2 == 1:\n",
        "        x *= -1;\n",
        "\n",
        "      # Convert the NumPy array x to a PyTorch tensor\n",
        "      x = torch.tensor(x, dtype=torch.float32)\n",
        "      y = torch.tensor(y, dtype=torch.float32)\n",
        "\n",
        "      return x, y"
      ],
      "metadata": {
        "id": "Zp8m542O7dG_"
      },
      "execution_count": null,
      "outputs": []
    },
    {
      "cell_type": "markdown",
      "source": [
        "CNN Network and Custom Modules"
      ],
      "metadata": {
        "id": "w_MrMJuLOv9d"
      }
    },
    {
      "cell_type": "code",
      "source": [
        "import torch.nn as nn\n",
        "\n",
        "#  creating a custom convolutional neural network module\n",
        "class module(nn.Module):\n",
        "\n",
        "    # initialize model's layers and parameters\n",
        "    def __init__(self, hidden_size):\n",
        "        super(module, self).__init__()\n",
        "\n",
        "        # Two 2-D convolutional layers\n",
        "        # applies a 3x3 convolution to the input tensor\n",
        "        self.conv1 = nn.Conv2d(hidden_size, hidden_size,\n",
        "                               3, stride=1, padding=1)\n",
        "        self.conv2 = nn.Conv2d(hidden_size, hidden_size,\n",
        "                               3, stride=1, padding=1)\n",
        "        # 2 batch normalization layers\n",
        "        # stabilizes and accelerates training by normalizing the input of each layer\n",
        "        self.bn1 = nn.BatchNorm2d(hidden_size)\n",
        "        self.bn2 = nn.BatchNorm2d(hidden_size)\n",
        "        # 2 SELU activation functions\n",
        "        # helps with vanishing and exploding gradients\n",
        "        self.activation1 = nn.SELU()\n",
        "        self.activation2 = nn.SELU()\n",
        "\n",
        "    def forward(self, x):\n",
        "        # save the input tensor for the skip connection\n",
        "        x_input = torch.clone(x)\n",
        "\n",
        "        # pass the input tensor through the layers\n",
        "        x = self.conv1(x)\n",
        "        x = self.bn1(x)\n",
        "        x = self.activation1(x)\n",
        "        x = self.conv2(x)\n",
        "        x = self.bn2(x)\n",
        "        x = self.activation2(x)\n",
        "\n",
        "        # add the input tensor to the processed tensor\n",
        "        # this is called a skip or residual connection, it helps to learn the residual between the input and output tensors\n",
        "        x = x + x_input\n",
        "        # pass the tensor through the activation function\n",
        "        x = self.activation2(x)\n",
        "\n",
        "        return x"
      ],
      "metadata": {
        "id": "TNkB_exeOu6l"
      },
      "execution_count": null,
      "outputs": []
    },
    {
      "cell_type": "code",
      "source": [
        "import torch.nn.functional as F\n",
        "\n",
        "# creating the entire chess network\n",
        "class ChessNet(nn.Module):\n",
        "\n",
        "    def __init__(self, hidden_layers=4, hidden_size=200):\n",
        "        super(ChessNet, self).__init__()\n",
        "\n",
        "        self.hidden_layers = hidden_layers\n",
        "        # set input with 6 channels (one for each piece type for both colors)\n",
        "        self.input_layer = nn.Conv2d(6, hidden_size, 3, stride=1, padding=1)\n",
        "        # create a list-like container to store the custom modules\n",
        "        # for each hidden layer in the network create a custom module\n",
        "        self.module_list = nn.ModuleList(\n",
        "            [module(hidden_size) for _ in range(hidden_layers)])\n",
        "        # set output with 2 channels (one for the from square and one for the to square)\n",
        "        self.output_layer = nn.Conv2d(hidden_size, 2, 3, stride=1, padding=1)\n",
        "\n",
        "    def forward(self, x):\n",
        "        # pass the input tensor through the layers\n",
        "        x = self.input_layer(x)\n",
        "\n",
        "        # pass through a ReLU activation function\n",
        "        x = F.relu(x)\n",
        "\n",
        "        # iterate through the custom modules and pass the input tensor through each one\n",
        "        for i in range(self.hidden_layers):\n",
        "            x = self.module_list[i](x)\n",
        "\n",
        "        x = self.output_layer(x)\n",
        "\n",
        "        return x"
      ],
      "metadata": {
        "id": "4MPCYO_KO2YX"
      },
      "execution_count": null,
      "outputs": []
    },
    {
      "cell_type": "code",
      "source": [
        "# Initialize the ChessNet model with desired hyperparameters\n",
        "hidden_layers = 4\n",
        "hidden_size = 200\n",
        "chess_net_model = ChessNet(hidden_layers, hidden_size)\n",
        "\n",
        "# Define the predict function to make predictions\n",
        "\n",
        "\n",
        "def predict(x):\n",
        "    # Ensure the input tensor has the correct shape (e.g., (batch_size, channels, height, width))\n",
        "\n",
        "    # Set the model in evaluation mode\n",
        "    chess_net_model.eval()\n",
        "    # Make predictions by passing the input tensor through the model\n",
        "    with torch.no_grad():\n",
        "        output = chess_net_model(x)\n",
        "\n",
        "    return output"
      ],
      "metadata": {
        "id": "qMh1ZLg8O3xX"
      },
      "execution_count": null,
      "outputs": []
    },
    {
      "cell_type": "markdown",
      "source": [
        "Picking Moves"
      ],
      "metadata": {
        "id": "fMJA3kL22ssA"
      }
    },
    {
      "cell_type": "code",
      "source": [
        "# Check mate in 1\n",
        "def checkmate_in_one(board):\n",
        "    board = board.copy()\n",
        "    legal_moves = list(board.legal_moves)\n",
        "    for move in legal_moves:\n",
        "        board.push_uci(str(move))\n",
        "        if board.is_checkmate():\n",
        "            move = board.pop()\n",
        "            return move\n",
        "        _ = board.pop()\n",
        "\n",
        "# Distribution over moves\n",
        "def distribution_over_moves(vals):\n",
        "    # Application of softmax function on the values\n",
        "    probs = np.array(vals)\n",
        "    probs = np.exp(probs)\n",
        "    probs = probs / np.sum(probs)\n",
        "\n",
        "    # Take distribution to the power of 3 and normalize it again\n",
        "    # Increases gap between high and low probs, so bad moves are chosen less often\n",
        "    probs = probs ** 3\n",
        "    probs = probs / np.sum(probs)\n",
        "\n",
        "    return probs"
      ],
      "metadata": {
        "id": "-2330cTb2rwq"
      },
      "execution_count": null,
      "outputs": []
    },
    {
      "cell_type": "code",
      "source": [
        "import tensorflow as tf\n",
        "\n",
        "# Overall move selection\n",
        "def choose_move(board, player, color):\n",
        "\n",
        "    legal_moves = list(board.legal_moves)\n",
        "\n",
        "    # check for forced checkmates\n",
        "    move = checkmate_in_one(board)\n",
        "    if move is not None:\n",
        "        return move\n",
        "\n",
        "    # convert board to matrix representation\n",
        "    x = torch.Tensor(board_to_rep(board)).float().unsqueeze(0).to('cpu')\n",
        "    if color == chess.BLACK:\n",
        "        x *= -1\n",
        "\n",
        "    # If x is a single sample, you may need to add a batch dimension.\n",
        "    # As x has shape (channels, height, width), we can add a batch dimension as follows:\n",
        "    # x = x.unsqueeze(0)\n",
        "    # predict the move\n",
        "    move = predict(x)\n",
        "    # print(tf.shape(move))\n",
        "\n",
        "    ##############################################\n",
        "    # from the list of legal moves, make a list of 'from' squares\n",
        "    vals = []\n",
        "    froms = [str(legal_move)[:2] for legal_move in legal_moves]\n",
        "    froms = list(set(froms))\n",
        "\n",
        "    # for each 'from' sqaure, take the value that the network assigned to it, and make a move from that position\n",
        "    for from_ in froms:\n",
        "        val = move[0, 0, 8 - int(from_[1]), letter_to_num[from_[0]]]\n",
        "        vals.append(val)\n",
        "\n",
        "    # convert the values to a probability distribution\n",
        "    probs = distribution_over_moves(vals)\n",
        "\n",
        "    # choose a 'from' square based on the probability distribution\n",
        "    chosen_from = str(np.random.choice(froms, size=1, p=probs)[0])[: 2]\n",
        "\n",
        "    ###############################################\n",
        "    # make a second feature map, for the 'to' squares\n",
        "    vals = []\n",
        "    # for each legal move, if the 'from' square matches the chosen 'from' square, take the value that the network assigned to it, and make a move to that position\n",
        "    for legal_move in legal_moves:\n",
        "\n",
        "        from_ = str(legal_move)[:2]\n",
        "\n",
        "        if from_ == chosen_from:\n",
        "            to = str(legal_move)[2:]\n",
        "            val = move[0, 0, 8 - int(to[1]), letter_to_num[to[0]]]\n",
        "            vals.append(val)\n",
        "        else:\n",
        "            vals.append(0)\n",
        "\n",
        "    # take the max from this 2nd feature map\n",
        "    chosen_move = legal_moves[np.argmax(vals)]\n",
        "\n",
        "    return chosen_move"
      ],
      "metadata": {
        "id": "T0uMuB9R2u8P"
      },
      "execution_count": null,
      "outputs": []
    }
  ]
}