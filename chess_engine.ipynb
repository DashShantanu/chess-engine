{
  "nbformat": 4,
  "nbformat_minor": 0,
  "metadata": {
    "colab": {
      "provenance": [],
      "authorship_tag": "ABX9TyOlT9QnVPOOyLsz8HjALnjv",
      "include_colab_link": true
    },
    "kernelspec": {
      "name": "python3",
      "display_name": "Python 3"
    },
    "language_info": {
      "name": "python"
    }
  },
  "cells": [
    {
      "cell_type": "markdown",
      "metadata": {
        "id": "view-in-github",
        "colab_type": "text"
      },
      "source": [
        "<a href=\"https://colab.research.google.com/github/DashShantanu/chess-engine/blob/main/chess_engine.ipynb\" target=\"_parent\"><img src=\"https://colab.research.google.com/assets/colab-badge.svg\" alt=\"Open In Colab\"/></a>"
      ]
    },
    {
      "cell_type": "code",
      "execution_count": 2,
      "metadata": {
        "colab": {
          "base_uri": "https://localhost:8080/"
        },
        "id": "mY2EK4F65DZ0",
        "outputId": "96bf44d0-35bb-438b-f263-6acafa8b8165"
      },
      "outputs": [
        {
          "output_type": "stream",
          "name": "stdout",
          "text": [
            "mkdir: cannot create directory ‘/root/.kaggle’: File exists\n",
            "Downloading chess-games.zip to /content\n",
            "100% 1.45G/1.45G [00:15<00:00, 112MB/s] \n",
            "100% 1.45G/1.45G [00:15<00:00, 98.8MB/s]\n"
          ]
        }
      ],
      "source": [
        "! pip install kaggle -q\n",
        "! mkdir ~/.kaggle\n",
        "! cp kaggle.json ~/.kaggle/\n",
        "! chmod 600 /root/.kaggle/kaggle.json\n",
        "! kaggle datasets download -d arevel/chess-games\n",
        "! unzip -qq /content/chess-games.zip\n",
        "\n",
        "# dataset url\n",
        "# https://www.kaggle.com/datasets/arevel/chess-games\n",
        "\n",
        "# !nvcc --version\n",
        "# !pip3 install torch torchvision torchaudio --index-url https://download.pytorch.org/whl/cu118\n",
        "# !pip3 install torchvision"
      ]
    },
    {
      "cell_type": "code",
      "source": [
        "! pip install chess -q\n",
        "import chess"
      ],
      "metadata": {
        "colab": {
          "base_uri": "https://localhost:8080/"
        },
        "id": "O0i4UWTJ5UK3",
        "outputId": "5c6993d3-716e-4ed0-e5cc-7be84309fc14"
      },
      "execution_count": 3,
      "outputs": [
        {
          "output_type": "stream",
          "name": "stdout",
          "text": [
            "\u001b[?25l     \u001b[90m━━━━━━━━━━━━━━━━━━━━━━━━━━━━━━━━━━━━━━━━\u001b[0m \u001b[32m0.0/154.4 kB\u001b[0m \u001b[31m?\u001b[0m eta \u001b[36m-:--:--\u001b[0m\r\u001b[2K     \u001b[91m━━━━━━━\u001b[0m\u001b[91m╸\u001b[0m\u001b[90m━━━━━━━━━━━━━━━━━━━━━━━━━━━━━━━━\u001b[0m \u001b[32m30.7/154.4 kB\u001b[0m \u001b[31m1.1 MB/s\u001b[0m eta \u001b[36m0:00:01\u001b[0m\r\u001b[2K     \u001b[90m━━━━━━━━━━━━━━━━━━━━━━━━━━━━━━━━━━━━━━━━\u001b[0m \u001b[32m154.4/154.4 kB\u001b[0m \u001b[31m2.2 MB/s\u001b[0m eta \u001b[36m0:00:00\u001b[0m\n",
            "\u001b[?25h"
          ]
        }
      ]
    },
    {
      "cell_type": "code",
      "source": [
        "# Column indexes mapping from letter to num and vice-versa\n",
        "letter_to_num = { 'a': 0, 'b': 1, 'c': 2, 'd': 3, 'e': 4, 'f': 5, 'g': 6, 'h': 7 }\n",
        "num_to_letter = { 0: 'a', 1: 'b', 2: 'c', 3: 'd', 4: 'e', 5: 'f', 6: 'g', 7: 'h' }"
      ],
      "metadata": {
        "id": "-9lK3WQS5Vyu"
      },
      "execution_count": 4,
      "outputs": []
    },
    {
      "cell_type": "code",
      "source": [
        "import numpy as np\n",
        "import pandas as pd\n",
        "import re\n",
        "\n",
        "# Chess-board to matrix representation\n",
        "def board_to_rep(board):\n",
        "  pieces = ['p', 'r', 'n', 'b', 'q', 'k']\n",
        "  layers = []\n",
        "\n",
        "  for piece in pieces:\n",
        "    layers.append(create_rep_layer(board, piece))\n",
        "\n",
        "  # combining into a single 3-D tensor\n",
        "  board_rep = np.stack(layers)\n",
        "\n",
        "  return board_rep"
      ],
      "metadata": {
        "id": "-cpx8sKH5aiN"
      },
      "execution_count": 5,
      "outputs": []
    },
    {
      "cell_type": "code",
      "source": [
        "# Create a layer of the matrix representation, white value is positive, black is negative\n",
        "def create_rep_layer(board, type):\n",
        "    # convert board object to string\n",
        "    s = str(board)\n",
        "\n",
        "    # remove all characters except for the type we are looking for\n",
        "    s = re.sub(f'[^{type}{type.upper()} \\n]', '.', s)\n",
        "    # replace all occurences of the type in uppercase with 1 (white pieces)\n",
        "    s = re.sub(f'[{type.upper()}]', '1', s)\n",
        "    # replace all occurences of the type in lowercase with -1 (black pieces)\n",
        "    s = re.sub(f'{type}', '-1', s)\n",
        "    # replace all occurences of empty spaces or other characters with 0\n",
        "    s = re.sub(f'\\.', '0', s)\n",
        "\n",
        "    board_matrix = []\n",
        "    for row in s.split('\\n'):\n",
        "        # split each row into a list of characters\n",
        "        row = row.split(' ')\n",
        "        # convert each character to an integer\n",
        "        row = [int(x) for x in row]\n",
        "        # append the row to the board matrix\n",
        "        board_matrix.append(row)\n",
        "\n",
        "    return np.array(board_matrix)"
      ],
      "metadata": {
        "id": "kSrxm2Ol5dPU"
      },
      "execution_count": 6,
      "outputs": []
    },
    {
      "cell_type": "code",
      "source": [
        "# chess-move to matrix representation\n",
        "def move_to_rep(move, board):\n",
        "    # make the move on the board and convert move to uci format\n",
        "    board.push_san(move).uci()\n",
        "\n",
        "    # Make a copy of the original board to preserve its state\n",
        "    board_copy = board.copy()\n",
        "    # convert board object to string\n",
        "    move = str(board_copy.pop())\n",
        "\n",
        "    from_output_layer = np.zeros((8,8))\n",
        "    from_row = 8 - int(move[1])\n",
        "    from_column = letter_to_num[move[0]]\n",
        "    from_output_layer[from_row, from_column] = 1\n",
        "\n",
        "    to_output_layer = np.zeros((8,8))\n",
        "    to_row = 8 - int(move[3])\n",
        "    to_column = letter_to_num[move[2]]\n",
        "    to_output_layer[to_row, to_column] = 1\n",
        "\n",
        "    return np.stack([from_output_layer, to_output_layer])"
      ],
      "metadata": {
        "id": "b5s7TYvn5hts"
      },
      "execution_count": 7,
      "outputs": []
    },
    {
      "cell_type": "code",
      "source": [
        "# Break down game into individual moves\n",
        "def create_move_list(s):\n",
        "    # remove the move numbers and periods\n",
        "    # split the string into a list of moves\n",
        "    # The last element is excluded because it often contains empty space due to the trailing space after the last move in the original string\n",
        "    return re.sub('\\d*\\. ', '', s).split(' ')[ : -1]"
      ],
      "metadata": {
        "id": "TkYAWtCH5k1o"
      },
      "execution_count": 8,
      "outputs": []
    },
    {
      "cell_type": "markdown",
      "source": [
        "Loading the Chess Dataset"
      ],
      "metadata": {
        "id": "9q0TFRVP5rgk"
      }
    },
    {
      "cell_type": "code",
      "source": [
        "chess_data_raw = pd.read_csv('/content/chess_games.csv', usecols=['AN', 'WhiteElo'])\n",
        "chess_data = chess_data_raw[chess_data_raw['WhiteElo'] > 2000]"
      ],
      "metadata": {
        "id": "vvGDZytm5pKI"
      },
      "execution_count": 9,
      "outputs": []
    },
    {
      "cell_type": "code",
      "source": [
        "import gc\n",
        "# remove rejected games from memory\n",
        "del chess_data_raw\n",
        "gc.collect()"
      ],
      "metadata": {
        "colab": {
          "base_uri": "https://localhost:8080/"
        },
        "id": "YFrMzrxH5xmS",
        "outputId": "27f9c28f-cbb1-4fd0-f9a7-b61dd3b0c860"
      },
      "execution_count": 10,
      "outputs": [
        {
          "output_type": "execute_result",
          "data": {
            "text/plain": [
              "0"
            ]
          },
          "metadata": {},
          "execution_count": 10
        }
      ]
    },
    {
      "cell_type": "code",
      "source": [
        "chess_data = chess_data[['AN']]\n",
        "chess_data = chess_data[~chess_data['AN'].str.contains('{')]\n",
        "chess_data = chess_data[chess_data['AN'].str.len() > 20]"
      ],
      "metadata": {
        "id": "G_sasMvd502S"
      },
      "execution_count": 11,
      "outputs": []
    },
    {
      "cell_type": "code",
      "source": [
        "print(chess_data.shape[0])"
      ],
      "metadata": {
        "colab": {
          "base_uri": "https://localhost:8080/"
        },
        "id": "gQljJ1bt54FC",
        "outputId": "d888c8d9-78b4-41d9-a00c-a06d1e2656a9"
      },
      "execution_count": 12,
      "outputs": [
        {
          "output_type": "stream",
          "name": "stdout",
          "text": [
            "883376\n"
          ]
        }
      ]
    },
    {
      "cell_type": "code",
      "source": [],
      "metadata": {
        "id": "Zp8m542O7dG_"
      },
      "execution_count": null,
      "outputs": []
    }
  ]
}